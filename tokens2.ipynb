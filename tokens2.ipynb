{
  "nbformat": 4,
  "nbformat_minor": 0,
  "metadata": {
    "colab": {
      "provenance": [],
      "include_colab_link": true
    },
    "kernelspec": {
      "name": "python3",
      "display_name": "Python 3"
    },
    "language_info": {
      "name": "python"
    }
  },
  "cells": [
    {
      "cell_type": "markdown",
      "metadata": {
        "id": "view-in-github",
        "colab_type": "text"
      },
      "source": [
        "<a href=\"https://colab.research.google.com/github/Otter2022/Oil_Marketing_Campaign/blob/main/tokens2.ipynb\" target=\"_parent\"><img src=\"https://colab.research.google.com/assets/colab-badge.svg\" alt=\"Open In Colab\"/></a>"
      ]
    },
    {
      "cell_type": "code",
      "execution_count": null,
      "metadata": {
        "id": "A3GxvCkOFUTL",
        "colab": {
          "base_uri": "https://localhost:8080/"
        },
        "outputId": "2998ed69-947e-4d01-bc50-1ebac06f07a7"
      },
      "outputs": [
        {
          "output_type": "stream",
          "name": "stdout",
          "text": [
            "Mounted at /content/drive\n",
            "['Dr', 'Doctor', 'Mr', 'Mrs', 'Ms', 'Miss', 'Prof', 'Professor', 'Sir', 'Madam', 'Dame', 'Lord', 'Lady', 'Rev', 'Reverend', 'Hon', 'Honorable', 'Capt', 'Captain', 'Major', 'Col', 'Colonel', 'Gen', 'General', 'Adm', 'Admiral', 'Sgt', 'Sergeant', 'Lt', 'Lieutenant', 'Chief', 'Officer', 'Judge', 'Magistrate', 'Sen', 'Senator', 'Rep', 'Representative', 'Amb', 'Ambassador', 'Pres', 'President', 'VP', 'Vice President', 'Gov', 'Governor', 'Mayor']\n",
            "['Jr', 'Sr', 'Esq', 'Esquire', 'PhD', 'MD', 'DDS', 'DVM', 'JD', 'CPA', 'RN', 'LPN', 'PE', 'Ret']\n",
            "['V', 'IV', 'III', 'II', 'I']\n"
          ]
        }
      ],
      "source": [
        "#!/usr/bin/env python3\n",
        "#tokens2\n",
        "import csv\n",
        "import re\n",
        "import sys\n",
        "import os\n",
        "\n",
        "from google.colab import drive\n",
        "drive.mount(\"/content/drive\", force_remount=True)\n",
        "\n",
        "source_data = '/content/drive/MyDrive/ColabNotebooks/FinalProject_AI/Source_Data/'\n",
        "source_data_output = '/content/drive/MyDrive/ColabNotebooks/FinalProject_AI/Source_Data_Output/'\n",
        "source_code = '/content/drive/MyDrive/ColabNotebooks/FinalProject_AI/Source_Code/'\n",
        "admin = '/content/drive/MyDrive/ColabNotebooks/FinalProject_AI/Admin/'\n",
        "backups = '/content/drive/MyDrive/ColabNotebooks/FinalProject_AI/Backups/'\n",
        "\n",
        "#The lists contained in the marketing_compaign_oil.py file serves as a header for name pre-processing\n",
        "#contains exclude, compiled_patterns for exclude, fix_abbreviations, honorifics, suffixes, suffixes_roman, etc.\n",
        "marketing_campaign_oil = source_code+'marketing_campaign_oil.py'\n",
        "with open(marketing_campaign_oil, 'r') as f:\n",
        "    exec(f.read())\n",
        "    f.close()\n",
        "\n",
        "input_file = source_data+'tokens2_9071_CSV.csv'\n",
        "#input_file = source_data + 'tokens2_test_csv.csv'\n",
        "output_file = source_data_output+'tokens2_formatted_output.csv'\n",
        "\n",
        "\n",
        "# Test for successul package import marketing_campaign_oil\n",
        "print(honorifics)\n",
        "print(suffixes)\n",
        "print(suffixes_roman)\n"
      ]
    },
    {
      "cell_type": "code",
      "source": [
        "def is_excluded(input_string):\n",
        "    # Check if any compiled pattern matches the input string\n",
        "    #I want to print the input_strings that are excluded\n",
        "    for pattern in compiled_patterns:\n",
        "        if pattern.match(input_string):\n",
        "            print(f\"Excluded: {input_string}\")\n",
        "            return True\n",
        "    return False\n",
        "\n",
        "\n",
        "def abbreviate(token):\n",
        "  if token in fix_abbreviations.keys():\n",
        "    return fix_abbreviations[token]\n",
        "  else:\n",
        "    return token\n",
        "\n",
        "\n",
        "def rearrange_tokens(name):\n",
        "    # Split the name into tokens\n",
        "    tokens = name.split()\n",
        "\n",
        "    # If there are exactly two tokens, rearrange them\n",
        "    if len(tokens) == 2:\n",
        "        token1, token2 = tokens[0].strip(), tokens[1].strip()\n",
        "\n",
        "        #Fix abbreviations, i.e. FAM to Famil, TR to Trust\n",
        "        token1 = abbreviate(token1)\n",
        "        token2 = abbreviate(token2)\n",
        "\n",
        "        # Capitalize the first letter of each token\n",
        "        '''\n",
        "        SMITH to Smith\n",
        "        Except for suffixes like IV, V, III, II, I\n",
        "        '''\n",
        "        if token1 not in suffixes_roman:\n",
        "          token1 = token1.capitalize()\n",
        "        if token2 not in suffixes_roman:\n",
        "          token2 = token2.capitalize()\n",
        "\n",
        "\n",
        "        # EXCLUDE if any token for the owner name is in the exclude list\n",
        "        for token in tokens:\n",
        "          if is_excluded(token):\n",
        "            print(f\"Excluded: {name}\")\n",
        "            return \"Miss\"\n",
        "\n",
        "        # 2-token sub-categories - General to specific\n",
        "        if token1.isalpha() and token2.isalpha():\n",
        "          if token1 in honorifics:\n",
        "            return f\"{token1} {token2}\" #Dr. Smith, Mr. Smith\n",
        "          elif token2 in suffixes:\n",
        "            return f\"{token1} {token2}\" # Smith Jr\n",
        "          elif token2 in suffixes_roman:\n",
        "            return f\"{token1} {token2}\" #. Smith IV\n",
        "          else:\n",
        "            return f\"{token2} {token1}\" #John Smith\n",
        "        elif token1.isalpha() and re.search(r'[#\\d\\-]', token2):\n",
        "            return f\"{token1} {token2}\"#3 Trust #1234\n",
        "    return \"Miss\"\n",
        "\n",
        "\n",
        "def process_names(input_file, output_file):\n",
        "    with open(input_file, 'r') as csvfile:\n",
        "        reader = csv.reader(csvfile)\n",
        "        names = [row[0] for row in reader]\n",
        "\n",
        "    names = [name.strip() for name in names]\n",
        "\n",
        "    formatted_names = [(name, rearrange_tokens(name)) for name in names]\n",
        "    misses = 0\n",
        "    total = len(formatted_names)\n",
        "    print(f\"Total: {total}\")\n",
        "\n",
        "    try:\n",
        "        with open(output_file, 'w', newline='') as csvfile:\n",
        "            writer = csv.writer(csvfile)\n",
        "            writer.writerow(['column1', 'column2'])  # Write headers\n",
        "            for original, rearranged in formatted_names:\n",
        "                if rearranged == 'Miss':\n",
        "                    misses += 1\n",
        "                else:\n",
        "                    writer.writerow([original, rearranged])\n",
        "    except TypeError:\n",
        "        with open(output_file, 'w') as csvfile:\n",
        "            writer = csv.writer(csvfile)\n",
        "            writer.writerow(['column1', 'column2'])  # Write headers\n",
        "            for original, rearranged in formatted_names:\n",
        "                if rearranged == 'Miss':\n",
        "                    misses += 1\n",
        "                else:\n",
        "                    writer.writerow([original, rearranged])\n",
        "\n",
        "    return misses, total\n",
        "\n"
      ],
      "metadata": {
        "id": "XYNx4_omFcto"
      },
      "execution_count": null,
      "outputs": []
    },
    {
      "cell_type": "code",
      "source": [
        "def main():\n",
        "    misses,total = process_names(input_file, output_file)\n",
        "    print(f\"Total: {total}\")\n",
        "    print(f\"Errors: {misses}\")\n",
        "    print(f\"Miss percentage {(float(misses)/float(total))*100.00}%.\")\n",
        "\n",
        "if __name__ == \"__main__\":\n",
        "    main()"
      ],
      "metadata": {
        "colab": {
          "base_uri": "https://localhost:8080/"
        },
        "id": "MkDgnu8nFcEL",
        "outputId": "bcefb5a7-7375-4105-e28e-bdae456a62a6",
        "collapsed": true
      },
      "execution_count": null,
      "outputs": [
        {
          "output_type": "stream",
          "name": "stdout",
          "text": [
            "Excluded: FUNDING\n",
            "Excluded: HLF FUNDING\n",
            "Excluded: ROYALTIES/HOLDINGS\n",
            "Excluded: WAKEFIELD ROYALTIES/HOLDINGS\n",
            "Excluded: FUNDERBURK\n",
            "Excluded: FUNDERBURK JULIA\n",
            "Excluded: UNKNOWN-LSE\n",
            "Excluded: UNKNOWN-LSE #361068\n",
            "Excluded: UNKNOWN-LSE\n",
            "Excluded: UNKNOWN-LSE #361069\n",
            "Excluded: UNKNOWN-LSE\n",
            "Excluded: UNKNOWN-LSE #361070\n",
            "Excluded: UNKNOWN-LSE\n",
            "Excluded: UNKNOWN-LSE #361071\n",
            "Excluded: UNKNOWN-LSE\n",
            "Excluded: UNKNOWN-LSE #361072\n",
            "Excluded: UNKNOWN-LSE\n",
            "Excluded: UNKNOWN-LSE #361073\n",
            "Excluded: UNKNOWN-LSE\n",
            "Excluded: UNKNOWN-LSE 361136\n",
            "Excluded: UNKNOWN-LSE\n",
            "Excluded: UNKNOWN-LSE 361137\n",
            "Excluded: UNKNOWN-LSE\n",
            "Excluded: UNKNOWN-LSE 361139\n",
            "Excluded: MANAGEMENT\n",
            "Excluded: PEKF MANAGEMENT\n",
            "Total: 9071\n",
            "Total: 9071\n",
            "Errors: 102\n",
            "Miss percentage 1.1244625730349467%.\n"
          ]
        }
      ]
    }
  ]
}